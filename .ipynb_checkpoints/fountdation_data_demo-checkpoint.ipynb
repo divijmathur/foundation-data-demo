{
 "cells": [
  {
   "cell_type": "code",
   "execution_count": null,
   "id": "84c710be",
   "metadata": {
    "vscode": {
     "languageId": "plaintext"
    }
   },
   "outputs": [],
   "source": []
  }
 ],
 "metadata": {
  "language_info": {
   "name": "python"
  }
 },
 "nbformat": 4,
 "nbformat_minor": 5
}
