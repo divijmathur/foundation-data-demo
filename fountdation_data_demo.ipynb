{
 "cells": [
  {
   "cell_type": "code",
   "execution_count": 28,
   "id": "e2502522-d243-4a07-a88f-b6f59e61c3f3",
   "metadata": {},
   "outputs": [],
   "source": [
    "# This section simulates the kind of quality-metric evaluation\n",
    "# performed by a Foundation Data team before training large models:\n",
    "#   - Measure toxicity to ensure safe content\n",
    "#   - Estimate factuality to prioritize reliable data\n",
    "#   - Assess domain coverage for diversity and balance"
   ]
  },
  {
   "cell_type": "code",
   "execution_count": 29,
   "id": "84c710be",
   "metadata": {
    "vscode": {
     "languageId": "plaintext"
    }
   },
   "outputs": [
    {
     "name": "stdout",
     "output_type": "stream",
     "text": [
      "Requirement already satisfied: langdetect in /Users/divijmathur/miniforge3/lib/python3.12/site-packages (1.0.9)\n",
      "Requirement already satisfied: six in /Users/divijmathur/miniforge3/lib/python3.12/site-packages (from langdetect) (1.17.0)\n",
      "Requirement already satisfied: ftfy in /Users/divijmathur/miniforge3/lib/python3.12/site-packages (6.3.1)\n",
      "Requirement already satisfied: wcwidth in /Users/divijmathur/miniforge3/lib/python3.12/site-packages (from ftfy) (0.2.13)\n",
      "Requirement already satisfied: plotly in /Users/divijmathur/miniforge3/lib/python3.12/site-packages (6.3.1)\n",
      "Requirement already satisfied: narwhals>=1.15.1 in /Users/divijmathur/miniforge3/lib/python3.12/site-packages (from plotly) (2.8.0)\n",
      "Requirement already satisfied: packaging in /Users/divijmathur/miniforge3/lib/python3.12/site-packages (from plotly) (24.2)\n",
      "Requirement already satisfied: graphviz in /Users/divijmathur/miniforge3/lib/python3.12/site-packages (0.20.3)\n",
      "Requirement already satisfied: detoxify in /Users/divijmathur/miniforge3/lib/python3.12/site-packages (0.5.2)\n",
      "Requirement already satisfied: transformers in /Users/divijmathur/miniforge3/lib/python3.12/site-packages (from detoxify) (4.50.0)\n",
      "Requirement already satisfied: torch>=1.7.0 in /Users/divijmathur/miniforge3/lib/python3.12/site-packages (from detoxify) (2.6.0)\n",
      "Requirement already satisfied: sentencepiece>=0.1.94 in /Users/divijmathur/miniforge3/lib/python3.12/site-packages (from detoxify) (0.2.0)\n",
      "Requirement already satisfied: filelock in /Users/divijmathur/miniforge3/lib/python3.12/site-packages (from torch>=1.7.0->detoxify) (3.18.0)\n",
      "Requirement already satisfied: typing-extensions>=4.10.0 in /Users/divijmathur/miniforge3/lib/python3.12/site-packages (from torch>=1.7.0->detoxify) (4.12.2)\n",
      "Requirement already satisfied: setuptools in /Users/divijmathur/miniforge3/lib/python3.12/site-packages (from torch>=1.7.0->detoxify) (75.8.2)\n",
      "Requirement already satisfied: sympy!=1.13.2,>=1.13.1 in /Users/divijmathur/miniforge3/lib/python3.12/site-packages (from torch>=1.7.0->detoxify) (1.13.3)\n",
      "Requirement already satisfied: networkx in /Users/divijmathur/miniforge3/lib/python3.12/site-packages (from torch>=1.7.0->detoxify) (3.4.2)\n",
      "Requirement already satisfied: jinja2 in /Users/divijmathur/miniforge3/lib/python3.12/site-packages (from torch>=1.7.0->detoxify) (3.1.6)\n",
      "Requirement already satisfied: fsspec in /Users/divijmathur/miniforge3/lib/python3.12/site-packages (from torch>=1.7.0->detoxify) (2024.12.0)\n",
      "Requirement already satisfied: huggingface-hub<1.0,>=0.26.0 in /Users/divijmathur/miniforge3/lib/python3.12/site-packages (from transformers->detoxify) (0.29.3)\n",
      "Requirement already satisfied: numpy>=1.17 in /Users/divijmathur/miniforge3/lib/python3.12/site-packages (from transformers->detoxify) (2.2.5)\n",
      "Requirement already satisfied: packaging>=20.0 in /Users/divijmathur/miniforge3/lib/python3.12/site-packages (from transformers->detoxify) (24.2)\n",
      "Requirement already satisfied: pyyaml>=5.1 in /Users/divijmathur/miniforge3/lib/python3.12/site-packages (from transformers->detoxify) (6.0.2)\n",
      "Requirement already satisfied: regex!=2019.12.17 in /Users/divijmathur/miniforge3/lib/python3.12/site-packages (from transformers->detoxify) (2024.11.6)\n",
      "Requirement already satisfied: requests in /Users/divijmathur/miniforge3/lib/python3.12/site-packages (from transformers->detoxify) (2.32.3)\n",
      "Requirement already satisfied: tokenizers<0.22,>=0.21 in /Users/divijmathur/miniforge3/lib/python3.12/site-packages (from transformers->detoxify) (0.21.1)\n",
      "Requirement already satisfied: safetensors>=0.4.3 in /Users/divijmathur/miniforge3/lib/python3.12/site-packages (from transformers->detoxify) (0.5.3)\n",
      "Requirement already satisfied: tqdm>=4.27 in /Users/divijmathur/miniforge3/lib/python3.12/site-packages (from transformers->detoxify) (4.67.1)\n",
      "Requirement already satisfied: mpmath<1.4,>=1.1.0 in /Users/divijmathur/miniforge3/lib/python3.12/site-packages (from sympy!=1.13.2,>=1.13.1->torch>=1.7.0->detoxify) (1.3.0)\n",
      "Requirement already satisfied: MarkupSafe>=2.0 in /Users/divijmathur/miniforge3/lib/python3.12/site-packages (from jinja2->torch>=1.7.0->detoxify) (3.0.2)\n",
      "Requirement already satisfied: charset_normalizer<4,>=2 in /Users/divijmathur/miniforge3/lib/python3.12/site-packages (from requests->transformers->detoxify) (3.4.1)\n",
      "Requirement already satisfied: idna<4,>=2.5 in /Users/divijmathur/miniforge3/lib/python3.12/site-packages (from requests->transformers->detoxify) (3.10)\n",
      "Requirement already satisfied: urllib3<3,>=1.21.1 in /Users/divijmathur/miniforge3/lib/python3.12/site-packages (from requests->transformers->detoxify) (2.3.0)\n",
      "Requirement already satisfied: certifi>=2017.4.17 in /Users/divijmathur/miniforge3/lib/python3.12/site-packages (from requests->transformers->detoxify) (2025.1.31)\n"
     ]
    }
   ],
   "source": [
    "!pip install langdetect\n",
    "!pip install ftfy\n",
    "!pip install plotly\n",
    "!pip install graphviz\n",
    "!pip install detoxify\n",
    "from datasets import load_dataset\n",
    "import pandas as pd\n",
    "import numpy as np\n",
    "from langdetect import detect\n",
    "import ftfy\n",
    "import re\n",
    "import matplotlib.pyplot as plt\n",
    "import plotly.express as px\n",
    "from detoxify import Detoxify\n",
    "from tqdm import tqdm\n",
    "import torch"
   ]
  },
  {
   "cell_type": "code",
   "execution_count": 30,
   "id": "4f4fd11f-e0b1-4ed6-8cc9-33752534fa9e",
   "metadata": {},
   "outputs": [],
   "source": [
    "device = \"cuda\" if torch.cuda.is_available() else \"cpu\"\n",
    "toxicity_model = Detoxify('original', device=device)"
   ]
  },
  {
   "cell_type": "code",
   "execution_count": 31,
   "id": "ca492d46-524e-48d7-b38e-85a9a7cc0faa",
   "metadata": {},
   "outputs": [
    {
     "name": "stdout",
     "output_type": "stream",
     "text": [
      "Loading dataset...\n",
      "Loaded 5000 samples.\n"
     ]
    }
   ],
   "source": [
    "\n",
    "print(\"Loading dataset...\")\n",
    "dataset = load_dataset(\"cc_news\", split=\"train[:5000]\")\n",
    "df = pd.DataFrame(dataset)\n",
    "print(f\"Loaded {len(df)} samples.\")"
   ]
  },
  {
   "cell_type": "code",
   "execution_count": 32,
   "id": "4c85b6d8-3c7e-45e0-86e6-0f17f03fc1c4",
   "metadata": {},
   "outputs": [
    {
     "name": "stdout",
     "output_type": "stream",
     "text": [
      "count     5000.000000\n",
      "mean      2214.230800\n",
      "std       2159.622082\n",
      "min         74.000000\n",
      "25%        802.000000\n",
      "50%       1456.000000\n",
      "75%       3124.500000\n",
      "max      33930.000000\n",
      "Name: text_length, dtype: float64\n"
     ]
    }
   ],
   "source": [
    "df['text_length'] = df['text'].str.len()\n",
    "print(df['text_length'].describe())"
   ]
  },
  {
   "cell_type": "code",
   "execution_count": 33,
   "id": "c1d3f56e-d2d8-4fa2-b472-4ab1b60c9883",
   "metadata": {},
   "outputs": [],
   "source": [
    "def clean_text(text):\n",
    "    text = ftfy.fix_text(text)\n",
    "    text = re.sub(r'\\s+', ' ', text.strip())\n",
    "    return text\n",
    "df['clean_text'] = df['text'].apply(clean_text)\n"
   ]
  },
  {
   "cell_type": "code",
   "execution_count": 34,
   "id": "826408ec-8fbf-4071-a434-e66dfe1d5a83",
   "metadata": {},
   "outputs": [
    {
     "name": "stdout",
     "output_type": "stream",
     "text": [
      "After language filtering: 5000 samples.\n"
     ]
    }
   ],
   "source": [
    "def try_detect(text):\n",
    "    try:\n",
    "        return detect(text)\n",
    "    except:\n",
    "        return None\n",
    "\n",
    "df['lang'] = df['clean_text'].apply(try_detect)\n",
    "df = df[df['lang'] == 'en']\n",
    "print(f\"After language filtering: {len(df)} samples.\")"
   ]
  },
  {
   "cell_type": "code",
   "execution_count": 35,
   "id": "72d689d1-3a20-4ff0-96bd-4d13947a05fb",
   "metadata": {},
   "outputs": [
    {
     "name": "stdout",
     "output_type": "stream",
     "text": [
      "After deduplication and length filtering: 4141 samples.\n"
     ]
    }
   ],
   "source": [
    "df = df.drop_duplicates(subset=['clean_text'])\n",
    "df = df[(df['text_length'] > 200) & (df['text_length'] < 5000)]\n",
    "print(f\"After deduplication and length filtering: {len(df)} samples.\")\n"
   ]
  },
  {
   "cell_type": "code",
   "execution_count": 36,
   "id": "1f34bba0-cecb-42ae-bc3f-99d8b58d99b9",
   "metadata": {},
   "outputs": [
    {
     "name": "stdout",
     "output_type": "stream",
     "text": [
      "Computing toxicity scores (this may take ~1–2 min)...\n"
     ]
    },
    {
     "name": "stderr",
     "output_type": "stream",
     "text": [
      "100%|███████████████████████████████████████| 4141/4141 [23:25<00:00,  2.95it/s]"
     ]
    },
    {
     "name": "stdout",
     "output_type": "stream",
     "text": [
      "Done.\n",
      "count    4141.000000\n",
      "mean        0.001796\n",
      "std         0.009658\n",
      "min         0.000515\n",
      "25%         0.000633\n",
      "50%         0.000741\n",
      "75%         0.001039\n",
      "max         0.432489\n",
      "Name: toxicity_score, dtype: float64\n"
     ]
    },
    {
     "name": "stderr",
     "output_type": "stream",
     "text": [
      "\n"
     ]
    }
   ],
   "source": [
    "print(\"Computing toxicity scores (this may take ~1–2 min)...\")\n",
    "\n",
    "def compute_toxicity(text):\n",
    "    try:\n",
    "        return toxicity_model.predict(text)['toxicity']\n",
    "    except Exception:\n",
    "        return None\n",
    "\n",
    "tqdm.pandas()\n",
    "df['toxicity_score'] = df['clean_text'].progress_apply(compute_toxicity)\n",
    "\n",
    "print(\"Done.\")\n",
    "print(df['toxicity_score'].describe())"
   ]
  },
  {
   "cell_type": "code",
   "execution_count": 37,
   "id": "3f40427c-0b31-4c0b-87e9-ac50f4870078",
   "metadata": {},
   "outputs": [
    {
     "data": {
      "application/vnd.plotly.v1+json": {
       "config": {
        "plotlyServerURL": "https://plot.ly"
       },
       "data": [
        {
         "bingroup": "x",
         "hovertemplate": "toxicity_score=%{x}<br>count=%{y}<extra></extra>",
         "legendgroup": "",
         "marker": {
          "color": "#636efa",
          "pattern": {
           "shape": ""
          }
         },
         "name": "",
         "nbinsx": 50,
         "orientation": "v",
         "showlegend": false,
         "type": "histogram",
         "x": {
          "bdata": "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",
          "dtype": "f4"
         },
         "xaxis": "x",
         "yaxis": "y"
        }
       ],
       "layout": {
        "barmode": "relative",
        "legend": {
         "tracegroupgap": 0
        },
        "template": {
         "data": {
          "bar": [
           {
            "error_x": {
             "color": "#2a3f5f"
            },
            "error_y": {
             "color": "#2a3f5f"
            },
            "marker": {
             "line": {
              "color": "#E5ECF6",
              "width": 0.5
             },
             "pattern": {
              "fillmode": "overlay",
              "size": 10,
              "solidity": 0.2
             }
            },
            "type": "bar"
           }
          ],
          "barpolar": [
           {
            "marker": {
             "line": {
              "color": "#E5ECF6",
              "width": 0.5
             },
             "pattern": {
              "fillmode": "overlay",
              "size": 10,
              "solidity": 0.2
             }
            },
            "type": "barpolar"
           }
          ],
          "carpet": [
           {
            "aaxis": {
             "endlinecolor": "#2a3f5f",
             "gridcolor": "white",
             "linecolor": "white",
             "minorgridcolor": "white",
             "startlinecolor": "#2a3f5f"
            },
            "baxis": {
             "endlinecolor": "#2a3f5f",
             "gridcolor": "white",
             "linecolor": "white",
             "minorgridcolor": "white",
             "startlinecolor": "#2a3f5f"
            },
            "type": "carpet"
           }
          ],
          "choropleth": [
           {
            "colorbar": {
             "outlinewidth": 0,
             "ticks": ""
            },
            "type": "choropleth"
           }
          ],
          "contour": [
           {
            "colorbar": {
             "outlinewidth": 0,
             "ticks": ""
            },
            "colorscale": [
             [
              0,
              "#0d0887"
             ],
             [
              0.1111111111111111,
              "#46039f"
             ],
             [
              0.2222222222222222,
              "#7201a8"
             ],
             [
              0.3333333333333333,
              "#9c179e"
             ],
             [
              0.4444444444444444,
              "#bd3786"
             ],
             [
              0.5555555555555556,
              "#d8576b"
             ],
             [
              0.6666666666666666,
              "#ed7953"
             ],
             [
              0.7777777777777778,
              "#fb9f3a"
             ],
             [
              0.8888888888888888,
              "#fdca26"
             ],
             [
              1,
              "#f0f921"
             ]
            ],
            "type": "contour"
           }
          ],
          "contourcarpet": [
           {
            "colorbar": {
             "outlinewidth": 0,
             "ticks": ""
            },
            "type": "contourcarpet"
           }
          ],
          "heatmap": [
           {
            "colorbar": {
             "outlinewidth": 0,
             "ticks": ""
            },
            "colorscale": [
             [
              0,
              "#0d0887"
             ],
             [
              0.1111111111111111,
              "#46039f"
             ],
             [
              0.2222222222222222,
              "#7201a8"
             ],
             [
              0.3333333333333333,
              "#9c179e"
             ],
             [
              0.4444444444444444,
              "#bd3786"
             ],
             [
              0.5555555555555556,
              "#d8576b"
             ],
             [
              0.6666666666666666,
              "#ed7953"
             ],
             [
              0.7777777777777778,
              "#fb9f3a"
             ],
             [
              0.8888888888888888,
              "#fdca26"
             ],
             [
              1,
              "#f0f921"
             ]
            ],
            "type": "heatmap"
           }
          ],
          "histogram": [
           {
            "marker": {
             "pattern": {
              "fillmode": "overlay",
              "size": 10,
              "solidity": 0.2
             }
            },
            "type": "histogram"
           }
          ],
          "histogram2d": [
           {
            "colorbar": {
             "outlinewidth": 0,
             "ticks": ""
            },
            "colorscale": [
             [
              0,
              "#0d0887"
             ],
             [
              0.1111111111111111,
              "#46039f"
             ],
             [
              0.2222222222222222,
              "#7201a8"
             ],
             [
              0.3333333333333333,
              "#9c179e"
             ],
             [
              0.4444444444444444,
              "#bd3786"
             ],
             [
              0.5555555555555556,
              "#d8576b"
             ],
             [
              0.6666666666666666,
              "#ed7953"
             ],
             [
              0.7777777777777778,
              "#fb9f3a"
             ],
             [
              0.8888888888888888,
              "#fdca26"
             ],
             [
              1,
              "#f0f921"
             ]
            ],
            "type": "histogram2d"
           }
          ],
          "histogram2dcontour": [
           {
            "colorbar": {
             "outlinewidth": 0,
             "ticks": ""
            },
            "colorscale": [
             [
              0,
              "#0d0887"
             ],
             [
              0.1111111111111111,
              "#46039f"
             ],
             [
              0.2222222222222222,
              "#7201a8"
             ],
             [
              0.3333333333333333,
              "#9c179e"
             ],
             [
              0.4444444444444444,
              "#bd3786"
             ],
             [
              0.5555555555555556,
              "#d8576b"
             ],
             [
              0.6666666666666666,
              "#ed7953"
             ],
             [
              0.7777777777777778,
              "#fb9f3a"
             ],
             [
              0.8888888888888888,
              "#fdca26"
             ],
             [
              1,
              "#f0f921"
             ]
            ],
            "type": "histogram2dcontour"
           }
          ],
          "mesh3d": [
           {
            "colorbar": {
             "outlinewidth": 0,
             "ticks": ""
            },
            "type": "mesh3d"
           }
          ],
          "parcoords": [
           {
            "line": {
             "colorbar": {
              "outlinewidth": 0,
              "ticks": ""
             }
            },
            "type": "parcoords"
           }
          ],
          "pie": [
           {
            "automargin": true,
            "type": "pie"
           }
          ],
          "scatter": [
           {
            "fillpattern": {
             "fillmode": "overlay",
             "size": 10,
             "solidity": 0.2
            },
            "type": "scatter"
           }
          ],
          "scatter3d": [
           {
            "line": {
             "colorbar": {
              "outlinewidth": 0,
              "ticks": ""
             }
            },
            "marker": {
             "colorbar": {
              "outlinewidth": 0,
              "ticks": ""
             }
            },
            "type": "scatter3d"
           }
          ],
          "scattercarpet": [
           {
            "marker": {
             "colorbar": {
              "outlinewidth": 0,
              "ticks": ""
             }
            },
            "type": "scattercarpet"
           }
          ],
          "scattergeo": [
           {
            "marker": {
             "colorbar": {
              "outlinewidth": 0,
              "ticks": ""
             }
            },
            "type": "scattergeo"
           }
          ],
          "scattergl": [
           {
            "marker": {
             "colorbar": {
              "outlinewidth": 0,
              "ticks": ""
             }
            },
            "type": "scattergl"
           }
          ],
          "scattermap": [
           {
            "marker": {
             "colorbar": {
              "outlinewidth": 0,
              "ticks": ""
             }
            },
            "type": "scattermap"
           }
          ],
          "scattermapbox": [
           {
            "marker": {
             "colorbar": {
              "outlinewidth": 0,
              "ticks": ""
             }
            },
            "type": "scattermapbox"
           }
          ],
          "scatterpolar": [
           {
            "marker": {
             "colorbar": {
              "outlinewidth": 0,
              "ticks": ""
             }
            },
            "type": "scatterpolar"
           }
          ],
          "scatterpolargl": [
           {
            "marker": {
             "colorbar": {
              "outlinewidth": 0,
              "ticks": ""
             }
            },
            "type": "scatterpolargl"
           }
          ],
          "scatterternary": [
           {
            "marker": {
             "colorbar": {
              "outlinewidth": 0,
              "ticks": ""
             }
            },
            "type": "scatterternary"
           }
          ],
          "surface": [
           {
            "colorbar": {
             "outlinewidth": 0,
             "ticks": ""
            },
            "colorscale": [
             [
              0,
              "#0d0887"
             ],
             [
              0.1111111111111111,
              "#46039f"
             ],
             [
              0.2222222222222222,
              "#7201a8"
             ],
             [
              0.3333333333333333,
              "#9c179e"
             ],
             [
              0.4444444444444444,
              "#bd3786"
             ],
             [
              0.5555555555555556,
              "#d8576b"
             ],
             [
              0.6666666666666666,
              "#ed7953"
             ],
             [
              0.7777777777777778,
              "#fb9f3a"
             ],
             [
              0.8888888888888888,
              "#fdca26"
             ],
             [
              1,
              "#f0f921"
             ]
            ],
            "type": "surface"
           }
          ],
          "table": [
           {
            "cells": {
             "fill": {
              "color": "#EBF0F8"
             },
             "line": {
              "color": "white"
             }
            },
            "header": {
             "fill": {
              "color": "#C8D4E3"
             },
             "line": {
              "color": "white"
             }
            },
            "type": "table"
           }
          ]
         },
         "layout": {
          "annotationdefaults": {
           "arrowcolor": "#2a3f5f",
           "arrowhead": 0,
           "arrowwidth": 1
          },
          "autotypenumbers": "strict",
          "coloraxis": {
           "colorbar": {
            "outlinewidth": 0,
            "ticks": ""
           }
          },
          "colorscale": {
           "diverging": [
            [
             0,
             "#8e0152"
            ],
            [
             0.1,
             "#c51b7d"
            ],
            [
             0.2,
             "#de77ae"
            ],
            [
             0.3,
             "#f1b6da"
            ],
            [
             0.4,
             "#fde0ef"
            ],
            [
             0.5,
             "#f7f7f7"
            ],
            [
             0.6,
             "#e6f5d0"
            ],
            [
             0.7,
             "#b8e186"
            ],
            [
             0.8,
             "#7fbc41"
            ],
            [
             0.9,
             "#4d9221"
            ],
            [
             1,
             "#276419"
            ]
           ],
           "sequential": [
            [
             0,
             "#0d0887"
            ],
            [
             0.1111111111111111,
             "#46039f"
            ],
            [
             0.2222222222222222,
             "#7201a8"
            ],
            [
             0.3333333333333333,
             "#9c179e"
            ],
            [
             0.4444444444444444,
             "#bd3786"
            ],
            [
             0.5555555555555556,
             "#d8576b"
            ],
            [
             0.6666666666666666,
             "#ed7953"
            ],
            [
             0.7777777777777778,
             "#fb9f3a"
            ],
            [
             0.8888888888888888,
             "#fdca26"
            ],
            [
             1,
             "#f0f921"
            ]
           ],
           "sequentialminus": [
            [
             0,
             "#0d0887"
            ],
            [
             0.1111111111111111,
             "#46039f"
            ],
            [
             0.2222222222222222,
             "#7201a8"
            ],
            [
             0.3333333333333333,
             "#9c179e"
            ],
            [
             0.4444444444444444,
             "#bd3786"
            ],
            [
             0.5555555555555556,
             "#d8576b"
            ],
            [
             0.6666666666666666,
             "#ed7953"
            ],
            [
             0.7777777777777778,
             "#fb9f3a"
            ],
            [
             0.8888888888888888,
             "#fdca26"
            ],
            [
             1,
             "#f0f921"
            ]
           ]
          },
          "colorway": [
           "#636efa",
           "#EF553B",
           "#00cc96",
           "#ab63fa",
           "#FFA15A",
           "#19d3f3",
           "#FF6692",
           "#B6E880",
           "#FF97FF",
           "#FECB52"
          ],
          "font": {
           "color": "#2a3f5f"
          },
          "geo": {
           "bgcolor": "white",
           "lakecolor": "white",
           "landcolor": "#E5ECF6",
           "showlakes": true,
           "showland": true,
           "subunitcolor": "white"
          },
          "hoverlabel": {
           "align": "left"
          },
          "hovermode": "closest",
          "mapbox": {
           "style": "light"
          },
          "paper_bgcolor": "white",
          "plot_bgcolor": "#E5ECF6",
          "polar": {
           "angularaxis": {
            "gridcolor": "white",
            "linecolor": "white",
            "ticks": ""
           },
           "bgcolor": "#E5ECF6",
           "radialaxis": {
            "gridcolor": "white",
            "linecolor": "white",
            "ticks": ""
           }
          },
          "scene": {
           "xaxis": {
            "backgroundcolor": "#E5ECF6",
            "gridcolor": "white",
            "gridwidth": 2,
            "linecolor": "white",
            "showbackground": true,
            "ticks": "",
            "zerolinecolor": "white"
           },
           "yaxis": {
            "backgroundcolor": "#E5ECF6",
            "gridcolor": "white",
            "gridwidth": 2,
            "linecolor": "white",
            "showbackground": true,
            "ticks": "",
            "zerolinecolor": "white"
           },
           "zaxis": {
            "backgroundcolor": "#E5ECF6",
            "gridcolor": "white",
            "gridwidth": 2,
            "linecolor": "white",
            "showbackground": true,
            "ticks": "",
            "zerolinecolor": "white"
           }
          },
          "shapedefaults": {
           "line": {
            "color": "#2a3f5f"
           }
          },
          "ternary": {
           "aaxis": {
            "gridcolor": "white",
            "linecolor": "white",
            "ticks": ""
           },
           "baxis": {
            "gridcolor": "white",
            "linecolor": "white",
            "ticks": ""
           },
           "bgcolor": "#E5ECF6",
           "caxis": {
            "gridcolor": "white",
            "linecolor": "white",
            "ticks": ""
           }
          },
          "title": {
           "x": 0.05
          },
          "xaxis": {
           "automargin": true,
           "gridcolor": "white",
           "linecolor": "white",
           "ticks": "",
           "title": {
            "standoff": 15
           },
           "zerolinecolor": "white",
           "zerolinewidth": 2
          },
          "yaxis": {
           "automargin": true,
           "gridcolor": "white",
           "linecolor": "white",
           "ticks": "",
           "title": {
            "standoff": 15
           },
           "zerolinecolor": "white",
           "zerolinewidth": 2
          }
         }
        },
        "title": {
         "text": "Toxicity Score Distribution"
        },
        "xaxis": {
         "anchor": "y",
         "domain": [
          0,
          1
         ],
         "title": {
          "text": "toxicity_score"
         }
        },
        "yaxis": {
         "anchor": "x",
         "domain": [
          0,
          1
         ],
         "title": {
          "text": "count"
         }
        }
       }
      }
     },
     "metadata": {},
     "output_type": "display_data"
    }
   ],
   "source": [
    "fig = px.histogram(df, x='toxicity_score', nbins=50,\n",
    "                   title='Toxicity Score Distribution')\n",
    "fig.show()"
   ]
  },
  {
   "cell_type": "code",
   "execution_count": 38,
   "id": "b92f7950-a39c-4591-92cf-eb68a9d238ff",
   "metadata": {},
   "outputs": [
    {
     "name": "stdout",
     "output_type": "stream",
     "text": [
      "Factual marker present in 34.82% of samples.\n"
     ]
    }
   ],
   "source": [
    "def has_factual_marker(text):\n",
    "    markers = r\"\\b(according to|data show|study|researchers|report|in\\s+20\\d{2})\\b\"\n",
    "    return bool(re.search(markers, text, flags=re.I))\n",
    "\n",
    "df['has_factual_marker'] = df['clean_text'].apply(has_factual_marker)\n",
    "factual_coverage = df['has_factual_marker'].mean()\n",
    "print(f\"Factual marker present in {factual_coverage:.2%} of samples.\")"
   ]
  },
  {
   "cell_type": "code",
   "execution_count": 39,
   "id": "98dfb405-eb02-4ca3-b0c7-af036b3fc818",
   "metadata": {},
   "outputs": [
    {
     "data": {
      "application/vnd.plotly.v1+json": {
       "config": {
        "plotlyServerURL": "https://plot.ly"
       },
       "data": [
        {
         "hovertemplate": "variable=proportion<br>has_factual_marker=%{x}<br>value=%{y}<extra></extra>",
         "legendgroup": "proportion",
         "marker": {
          "color": "#636efa",
          "pattern": {
           "shape": ""
          }
         },
         "name": "proportion",
         "orientation": "v",
         "showlegend": true,
         "textposition": "auto",
         "type": "bar",
         "x": [
          "other",
          "factualish"
         ],
         "xaxis": "x",
         "y": {
          "bdata": "swQEG1fb5D+a9vfJUUnWPw==",
          "dtype": "f8"
         },
         "yaxis": "y"
        }
       ],
       "layout": {
        "barmode": "relative",
        "legend": {
         "title": {
          "text": "variable"
         },
         "tracegroupgap": 0
        },
        "template": {
         "data": {
          "bar": [
           {
            "error_x": {
             "color": "#2a3f5f"
            },
            "error_y": {
             "color": "#2a3f5f"
            },
            "marker": {
             "line": {
              "color": "#E5ECF6",
              "width": 0.5
             },
             "pattern": {
              "fillmode": "overlay",
              "size": 10,
              "solidity": 0.2
             }
            },
            "type": "bar"
           }
          ],
          "barpolar": [
           {
            "marker": {
             "line": {
              "color": "#E5ECF6",
              "width": 0.5
             },
             "pattern": {
              "fillmode": "overlay",
              "size": 10,
              "solidity": 0.2
             }
            },
            "type": "barpolar"
           }
          ],
          "carpet": [
           {
            "aaxis": {
             "endlinecolor": "#2a3f5f",
             "gridcolor": "white",
             "linecolor": "white",
             "minorgridcolor": "white",
             "startlinecolor": "#2a3f5f"
            },
            "baxis": {
             "endlinecolor": "#2a3f5f",
             "gridcolor": "white",
             "linecolor": "white",
             "minorgridcolor": "white",
             "startlinecolor": "#2a3f5f"
            },
            "type": "carpet"
           }
          ],
          "choropleth": [
           {
            "colorbar": {
             "outlinewidth": 0,
             "ticks": ""
            },
            "type": "choropleth"
           }
          ],
          "contour": [
           {
            "colorbar": {
             "outlinewidth": 0,
             "ticks": ""
            },
            "colorscale": [
             [
              0,
              "#0d0887"
             ],
             [
              0.1111111111111111,
              "#46039f"
             ],
             [
              0.2222222222222222,
              "#7201a8"
             ],
             [
              0.3333333333333333,
              "#9c179e"
             ],
             [
              0.4444444444444444,
              "#bd3786"
             ],
             [
              0.5555555555555556,
              "#d8576b"
             ],
             [
              0.6666666666666666,
              "#ed7953"
             ],
             [
              0.7777777777777778,
              "#fb9f3a"
             ],
             [
              0.8888888888888888,
              "#fdca26"
             ],
             [
              1,
              "#f0f921"
             ]
            ],
            "type": "contour"
           }
          ],
          "contourcarpet": [
           {
            "colorbar": {
             "outlinewidth": 0,
             "ticks": ""
            },
            "type": "contourcarpet"
           }
          ],
          "heatmap": [
           {
            "colorbar": {
             "outlinewidth": 0,
             "ticks": ""
            },
            "colorscale": [
             [
              0,
              "#0d0887"
             ],
             [
              0.1111111111111111,
              "#46039f"
             ],
             [
              0.2222222222222222,
              "#7201a8"
             ],
             [
              0.3333333333333333,
              "#9c179e"
             ],
             [
              0.4444444444444444,
              "#bd3786"
             ],
             [
              0.5555555555555556,
              "#d8576b"
             ],
             [
              0.6666666666666666,
              "#ed7953"
             ],
             [
              0.7777777777777778,
              "#fb9f3a"
             ],
             [
              0.8888888888888888,
              "#fdca26"
             ],
             [
              1,
              "#f0f921"
             ]
            ],
            "type": "heatmap"
           }
          ],
          "histogram": [
           {
            "marker": {
             "pattern": {
              "fillmode": "overlay",
              "size": 10,
              "solidity": 0.2
             }
            },
            "type": "histogram"
           }
          ],
          "histogram2d": [
           {
            "colorbar": {
             "outlinewidth": 0,
             "ticks": ""
            },
            "colorscale": [
             [
              0,
              "#0d0887"
             ],
             [
              0.1111111111111111,
              "#46039f"
             ],
             [
              0.2222222222222222,
              "#7201a8"
             ],
             [
              0.3333333333333333,
              "#9c179e"
             ],
             [
              0.4444444444444444,
              "#bd3786"
             ],
             [
              0.5555555555555556,
              "#d8576b"
             ],
             [
              0.6666666666666666,
              "#ed7953"
             ],
             [
              0.7777777777777778,
              "#fb9f3a"
             ],
             [
              0.8888888888888888,
              "#fdca26"
             ],
             [
              1,
              "#f0f921"
             ]
            ],
            "type": "histogram2d"
           }
          ],
          "histogram2dcontour": [
           {
            "colorbar": {
             "outlinewidth": 0,
             "ticks": ""
            },
            "colorscale": [
             [
              0,
              "#0d0887"
             ],
             [
              0.1111111111111111,
              "#46039f"
             ],
             [
              0.2222222222222222,
              "#7201a8"
             ],
             [
              0.3333333333333333,
              "#9c179e"
             ],
             [
              0.4444444444444444,
              "#bd3786"
             ],
             [
              0.5555555555555556,
              "#d8576b"
             ],
             [
              0.6666666666666666,
              "#ed7953"
             ],
             [
              0.7777777777777778,
              "#fb9f3a"
             ],
             [
              0.8888888888888888,
              "#fdca26"
             ],
             [
              1,
              "#f0f921"
             ]
            ],
            "type": "histogram2dcontour"
           }
          ],
          "mesh3d": [
           {
            "colorbar": {
             "outlinewidth": 0,
             "ticks": ""
            },
            "type": "mesh3d"
           }
          ],
          "parcoords": [
           {
            "line": {
             "colorbar": {
              "outlinewidth": 0,
              "ticks": ""
             }
            },
            "type": "parcoords"
           }
          ],
          "pie": [
           {
            "automargin": true,
            "type": "pie"
           }
          ],
          "scatter": [
           {
            "fillpattern": {
             "fillmode": "overlay",
             "size": 10,
             "solidity": 0.2
            },
            "type": "scatter"
           }
          ],
          "scatter3d": [
           {
            "line": {
             "colorbar": {
              "outlinewidth": 0,
              "ticks": ""
             }
            },
            "marker": {
             "colorbar": {
              "outlinewidth": 0,
              "ticks": ""
             }
            },
            "type": "scatter3d"
           }
          ],
          "scattercarpet": [
           {
            "marker": {
             "colorbar": {
              "outlinewidth": 0,
              "ticks": ""
             }
            },
            "type": "scattercarpet"
           }
          ],
          "scattergeo": [
           {
            "marker": {
             "colorbar": {
              "outlinewidth": 0,
              "ticks": ""
             }
            },
            "type": "scattergeo"
           }
          ],
          "scattergl": [
           {
            "marker": {
             "colorbar": {
              "outlinewidth": 0,
              "ticks": ""
             }
            },
            "type": "scattergl"
           }
          ],
          "scattermap": [
           {
            "marker": {
             "colorbar": {
              "outlinewidth": 0,
              "ticks": ""
             }
            },
            "type": "scattermap"
           }
          ],
          "scattermapbox": [
           {
            "marker": {
             "colorbar": {
              "outlinewidth": 0,
              "ticks": ""
             }
            },
            "type": "scattermapbox"
           }
          ],
          "scatterpolar": [
           {
            "marker": {
             "colorbar": {
              "outlinewidth": 0,
              "ticks": ""
             }
            },
            "type": "scatterpolar"
           }
          ],
          "scatterpolargl": [
           {
            "marker": {
             "colorbar": {
              "outlinewidth": 0,
              "ticks": ""
             }
            },
            "type": "scatterpolargl"
           }
          ],
          "scatterternary": [
           {
            "marker": {
             "colorbar": {
              "outlinewidth": 0,
              "ticks": ""
             }
            },
            "type": "scatterternary"
           }
          ],
          "surface": [
           {
            "colorbar": {
             "outlinewidth": 0,
             "ticks": ""
            },
            "colorscale": [
             [
              0,
              "#0d0887"
             ],
             [
              0.1111111111111111,
              "#46039f"
             ],
             [
              0.2222222222222222,
              "#7201a8"
             ],
             [
              0.3333333333333333,
              "#9c179e"
             ],
             [
              0.4444444444444444,
              "#bd3786"
             ],
             [
              0.5555555555555556,
              "#d8576b"
             ],
             [
              0.6666666666666666,
              "#ed7953"
             ],
             [
              0.7777777777777778,
              "#fb9f3a"
             ],
             [
              0.8888888888888888,
              "#fdca26"
             ],
             [
              1,
              "#f0f921"
             ]
            ],
            "type": "surface"
           }
          ],
          "table": [
           {
            "cells": {
             "fill": {
              "color": "#EBF0F8"
             },
             "line": {
              "color": "white"
             }
            },
            "header": {
             "fill": {
              "color": "#C8D4E3"
             },
             "line": {
              "color": "white"
             }
            },
            "type": "table"
           }
          ]
         },
         "layout": {
          "annotationdefaults": {
           "arrowcolor": "#2a3f5f",
           "arrowhead": 0,
           "arrowwidth": 1
          },
          "autotypenumbers": "strict",
          "coloraxis": {
           "colorbar": {
            "outlinewidth": 0,
            "ticks": ""
           }
          },
          "colorscale": {
           "diverging": [
            [
             0,
             "#8e0152"
            ],
            [
             0.1,
             "#c51b7d"
            ],
            [
             0.2,
             "#de77ae"
            ],
            [
             0.3,
             "#f1b6da"
            ],
            [
             0.4,
             "#fde0ef"
            ],
            [
             0.5,
             "#f7f7f7"
            ],
            [
             0.6,
             "#e6f5d0"
            ],
            [
             0.7,
             "#b8e186"
            ],
            [
             0.8,
             "#7fbc41"
            ],
            [
             0.9,
             "#4d9221"
            ],
            [
             1,
             "#276419"
            ]
           ],
           "sequential": [
            [
             0,
             "#0d0887"
            ],
            [
             0.1111111111111111,
             "#46039f"
            ],
            [
             0.2222222222222222,
             "#7201a8"
            ],
            [
             0.3333333333333333,
             "#9c179e"
            ],
            [
             0.4444444444444444,
             "#bd3786"
            ],
            [
             0.5555555555555556,
             "#d8576b"
            ],
            [
             0.6666666666666666,
             "#ed7953"
            ],
            [
             0.7777777777777778,
             "#fb9f3a"
            ],
            [
             0.8888888888888888,
             "#fdca26"
            ],
            [
             1,
             "#f0f921"
            ]
           ],
           "sequentialminus": [
            [
             0,
             "#0d0887"
            ],
            [
             0.1111111111111111,
             "#46039f"
            ],
            [
             0.2222222222222222,
             "#7201a8"
            ],
            [
             0.3333333333333333,
             "#9c179e"
            ],
            [
             0.4444444444444444,
             "#bd3786"
            ],
            [
             0.5555555555555556,
             "#d8576b"
            ],
            [
             0.6666666666666666,
             "#ed7953"
            ],
            [
             0.7777777777777778,
             "#fb9f3a"
            ],
            [
             0.8888888888888888,
             "#fdca26"
            ],
            [
             1,
             "#f0f921"
            ]
           ]
          },
          "colorway": [
           "#636efa",
           "#EF553B",
           "#00cc96",
           "#ab63fa",
           "#FFA15A",
           "#19d3f3",
           "#FF6692",
           "#B6E880",
           "#FF97FF",
           "#FECB52"
          ],
          "font": {
           "color": "#2a3f5f"
          },
          "geo": {
           "bgcolor": "white",
           "lakecolor": "white",
           "landcolor": "#E5ECF6",
           "showlakes": true,
           "showland": true,
           "subunitcolor": "white"
          },
          "hoverlabel": {
           "align": "left"
          },
          "hovermode": "closest",
          "mapbox": {
           "style": "light"
          },
          "paper_bgcolor": "white",
          "plot_bgcolor": "#E5ECF6",
          "polar": {
           "angularaxis": {
            "gridcolor": "white",
            "linecolor": "white",
            "ticks": ""
           },
           "bgcolor": "#E5ECF6",
           "radialaxis": {
            "gridcolor": "white",
            "linecolor": "white",
            "ticks": ""
           }
          },
          "scene": {
           "xaxis": {
            "backgroundcolor": "#E5ECF6",
            "gridcolor": "white",
            "gridwidth": 2,
            "linecolor": "white",
            "showbackground": true,
            "ticks": "",
            "zerolinecolor": "white"
           },
           "yaxis": {
            "backgroundcolor": "#E5ECF6",
            "gridcolor": "white",
            "gridwidth": 2,
            "linecolor": "white",
            "showbackground": true,
            "ticks": "",
            "zerolinecolor": "white"
           },
           "zaxis": {
            "backgroundcolor": "#E5ECF6",
            "gridcolor": "white",
            "gridwidth": 2,
            "linecolor": "white",
            "showbackground": true,
            "ticks": "",
            "zerolinecolor": "white"
           }
          },
          "shapedefaults": {
           "line": {
            "color": "#2a3f5f"
           }
          },
          "ternary": {
           "aaxis": {
            "gridcolor": "white",
            "linecolor": "white",
            "ticks": ""
           },
           "baxis": {
            "gridcolor": "white",
            "linecolor": "white",
            "ticks": ""
           },
           "bgcolor": "#E5ECF6",
           "caxis": {
            "gridcolor": "white",
            "linecolor": "white",
            "ticks": ""
           }
          },
          "title": {
           "x": 0.05
          },
          "xaxis": {
           "automargin": true,
           "gridcolor": "white",
           "linecolor": "white",
           "ticks": "",
           "title": {
            "standoff": 15
           },
           "zerolinecolor": "white",
           "zerolinewidth": 2
          },
          "yaxis": {
           "automargin": true,
           "gridcolor": "white",
           "linecolor": "white",
           "ticks": "",
           "title": {
            "standoff": 15
           },
           "zerolinecolor": "white",
           "zerolinewidth": 2
          }
         }
        },
        "title": {
         "text": "Factual Marker Presence"
        },
        "xaxis": {
         "anchor": "y",
         "domain": [
          0,
          1
         ],
         "title": {
          "text": "has_factual_marker"
         }
        },
        "yaxis": {
         "anchor": "x",
         "domain": [
          0,
          1
         ],
         "title": {
          "text": "value"
         }
        }
       }
      }
     },
     "metadata": {},
     "output_type": "display_data"
    }
   ],
   "source": [
    "px.bar(df['has_factual_marker'].value_counts(normalize=True)\n",
    "        .rename({True:'factualish', False:'other'}),\n",
    "       title='Factual Marker Presence')"
   ]
  },
  {
   "cell_type": "code",
   "execution_count": 40,
   "id": "62399b4a-8bfb-4216-82c9-31b6277cc485",
   "metadata": {},
   "outputs": [
    {
     "name": "stdout",
     "output_type": "stream",
     "text": [
      "domain\n",
      "technology    0.543347\n",
      "sports        0.283506\n",
      "finance       0.100942\n",
      "other         0.065926\n",
      "politics      0.006279\n",
      "Name: proportion, dtype: float64\n"
     ]
    },
    {
     "data": {
      "application/vnd.plotly.v1+json": {
       "config": {
        "plotlyServerURL": "https://plot.ly"
       },
       "data": [
        {
         "domain": {
          "x": [
           0,
           1
          ],
          "y": [
           0,
           1
          ]
         },
         "hovertemplate": "label=%{label}<br>value=%{value}<extra></extra>",
         "labels": [
          "technology",
          "sports",
          "finance",
          "other",
          "politics"
         ],
         "legendgroup": "",
         "name": "",
         "showlegend": true,
         "type": "pie",
         "values": {
          "bdata": "jAHjSBlj4T/b6m0G+CTSP3raOmhS17k/PL0XgIjgsD/6B9ttq7d5Pw==",
          "dtype": "f8"
         }
        }
       ],
       "layout": {
        "legend": {
         "tracegroupgap": 0
        },
        "template": {
         "data": {
          "bar": [
           {
            "error_x": {
             "color": "#2a3f5f"
            },
            "error_y": {
             "color": "#2a3f5f"
            },
            "marker": {
             "line": {
              "color": "#E5ECF6",
              "width": 0.5
             },
             "pattern": {
              "fillmode": "overlay",
              "size": 10,
              "solidity": 0.2
             }
            },
            "type": "bar"
           }
          ],
          "barpolar": [
           {
            "marker": {
             "line": {
              "color": "#E5ECF6",
              "width": 0.5
             },
             "pattern": {
              "fillmode": "overlay",
              "size": 10,
              "solidity": 0.2
             }
            },
            "type": "barpolar"
           }
          ],
          "carpet": [
           {
            "aaxis": {
             "endlinecolor": "#2a3f5f",
             "gridcolor": "white",
             "linecolor": "white",
             "minorgridcolor": "white",
             "startlinecolor": "#2a3f5f"
            },
            "baxis": {
             "endlinecolor": "#2a3f5f",
             "gridcolor": "white",
             "linecolor": "white",
             "minorgridcolor": "white",
             "startlinecolor": "#2a3f5f"
            },
            "type": "carpet"
           }
          ],
          "choropleth": [
           {
            "colorbar": {
             "outlinewidth": 0,
             "ticks": ""
            },
            "type": "choropleth"
           }
          ],
          "contour": [
           {
            "colorbar": {
             "outlinewidth": 0,
             "ticks": ""
            },
            "colorscale": [
             [
              0,
              "#0d0887"
             ],
             [
              0.1111111111111111,
              "#46039f"
             ],
             [
              0.2222222222222222,
              "#7201a8"
             ],
             [
              0.3333333333333333,
              "#9c179e"
             ],
             [
              0.4444444444444444,
              "#bd3786"
             ],
             [
              0.5555555555555556,
              "#d8576b"
             ],
             [
              0.6666666666666666,
              "#ed7953"
             ],
             [
              0.7777777777777778,
              "#fb9f3a"
             ],
             [
              0.8888888888888888,
              "#fdca26"
             ],
             [
              1,
              "#f0f921"
             ]
            ],
            "type": "contour"
           }
          ],
          "contourcarpet": [
           {
            "colorbar": {
             "outlinewidth": 0,
             "ticks": ""
            },
            "type": "contourcarpet"
           }
          ],
          "heatmap": [
           {
            "colorbar": {
             "outlinewidth": 0,
             "ticks": ""
            },
            "colorscale": [
             [
              0,
              "#0d0887"
             ],
             [
              0.1111111111111111,
              "#46039f"
             ],
             [
              0.2222222222222222,
              "#7201a8"
             ],
             [
              0.3333333333333333,
              "#9c179e"
             ],
             [
              0.4444444444444444,
              "#bd3786"
             ],
             [
              0.5555555555555556,
              "#d8576b"
             ],
             [
              0.6666666666666666,
              "#ed7953"
             ],
             [
              0.7777777777777778,
              "#fb9f3a"
             ],
             [
              0.8888888888888888,
              "#fdca26"
             ],
             [
              1,
              "#f0f921"
             ]
            ],
            "type": "heatmap"
           }
          ],
          "histogram": [
           {
            "marker": {
             "pattern": {
              "fillmode": "overlay",
              "size": 10,
              "solidity": 0.2
             }
            },
            "type": "histogram"
           }
          ],
          "histogram2d": [
           {
            "colorbar": {
             "outlinewidth": 0,
             "ticks": ""
            },
            "colorscale": [
             [
              0,
              "#0d0887"
             ],
             [
              0.1111111111111111,
              "#46039f"
             ],
             [
              0.2222222222222222,
              "#7201a8"
             ],
             [
              0.3333333333333333,
              "#9c179e"
             ],
             [
              0.4444444444444444,
              "#bd3786"
             ],
             [
              0.5555555555555556,
              "#d8576b"
             ],
             [
              0.6666666666666666,
              "#ed7953"
             ],
             [
              0.7777777777777778,
              "#fb9f3a"
             ],
             [
              0.8888888888888888,
              "#fdca26"
             ],
             [
              1,
              "#f0f921"
             ]
            ],
            "type": "histogram2d"
           }
          ],
          "histogram2dcontour": [
           {
            "colorbar": {
             "outlinewidth": 0,
             "ticks": ""
            },
            "colorscale": [
             [
              0,
              "#0d0887"
             ],
             [
              0.1111111111111111,
              "#46039f"
             ],
             [
              0.2222222222222222,
              "#7201a8"
             ],
             [
              0.3333333333333333,
              "#9c179e"
             ],
             [
              0.4444444444444444,
              "#bd3786"
             ],
             [
              0.5555555555555556,
              "#d8576b"
             ],
             [
              0.6666666666666666,
              "#ed7953"
             ],
             [
              0.7777777777777778,
              "#fb9f3a"
             ],
             [
              0.8888888888888888,
              "#fdca26"
             ],
             [
              1,
              "#f0f921"
             ]
            ],
            "type": "histogram2dcontour"
           }
          ],
          "mesh3d": [
           {
            "colorbar": {
             "outlinewidth": 0,
             "ticks": ""
            },
            "type": "mesh3d"
           }
          ],
          "parcoords": [
           {
            "line": {
             "colorbar": {
              "outlinewidth": 0,
              "ticks": ""
             }
            },
            "type": "parcoords"
           }
          ],
          "pie": [
           {
            "automargin": true,
            "type": "pie"
           }
          ],
          "scatter": [
           {
            "fillpattern": {
             "fillmode": "overlay",
             "size": 10,
             "solidity": 0.2
            },
            "type": "scatter"
           }
          ],
          "scatter3d": [
           {
            "line": {
             "colorbar": {
              "outlinewidth": 0,
              "ticks": ""
             }
            },
            "marker": {
             "colorbar": {
              "outlinewidth": 0,
              "ticks": ""
             }
            },
            "type": "scatter3d"
           }
          ],
          "scattercarpet": [
           {
            "marker": {
             "colorbar": {
              "outlinewidth": 0,
              "ticks": ""
             }
            },
            "type": "scattercarpet"
           }
          ],
          "scattergeo": [
           {
            "marker": {
             "colorbar": {
              "outlinewidth": 0,
              "ticks": ""
             }
            },
            "type": "scattergeo"
           }
          ],
          "scattergl": [
           {
            "marker": {
             "colorbar": {
              "outlinewidth": 0,
              "ticks": ""
             }
            },
            "type": "scattergl"
           }
          ],
          "scattermap": [
           {
            "marker": {
             "colorbar": {
              "outlinewidth": 0,
              "ticks": ""
             }
            },
            "type": "scattermap"
           }
          ],
          "scattermapbox": [
           {
            "marker": {
             "colorbar": {
              "outlinewidth": 0,
              "ticks": ""
             }
            },
            "type": "scattermapbox"
           }
          ],
          "scatterpolar": [
           {
            "marker": {
             "colorbar": {
              "outlinewidth": 0,
              "ticks": ""
             }
            },
            "type": "scatterpolar"
           }
          ],
          "scatterpolargl": [
           {
            "marker": {
             "colorbar": {
              "outlinewidth": 0,
              "ticks": ""
             }
            },
            "type": "scatterpolargl"
           }
          ],
          "scatterternary": [
           {
            "marker": {
             "colorbar": {
              "outlinewidth": 0,
              "ticks": ""
             }
            },
            "type": "scatterternary"
           }
          ],
          "surface": [
           {
            "colorbar": {
             "outlinewidth": 0,
             "ticks": ""
            },
            "colorscale": [
             [
              0,
              "#0d0887"
             ],
             [
              0.1111111111111111,
              "#46039f"
             ],
             [
              0.2222222222222222,
              "#7201a8"
             ],
             [
              0.3333333333333333,
              "#9c179e"
             ],
             [
              0.4444444444444444,
              "#bd3786"
             ],
             [
              0.5555555555555556,
              "#d8576b"
             ],
             [
              0.6666666666666666,
              "#ed7953"
             ],
             [
              0.7777777777777778,
              "#fb9f3a"
             ],
             [
              0.8888888888888888,
              "#fdca26"
             ],
             [
              1,
              "#f0f921"
             ]
            ],
            "type": "surface"
           }
          ],
          "table": [
           {
            "cells": {
             "fill": {
              "color": "#EBF0F8"
             },
             "line": {
              "color": "white"
             }
            },
            "header": {
             "fill": {
              "color": "#C8D4E3"
             },
             "line": {
              "color": "white"
             }
            },
            "type": "table"
           }
          ]
         },
         "layout": {
          "annotationdefaults": {
           "arrowcolor": "#2a3f5f",
           "arrowhead": 0,
           "arrowwidth": 1
          },
          "autotypenumbers": "strict",
          "coloraxis": {
           "colorbar": {
            "outlinewidth": 0,
            "ticks": ""
           }
          },
          "colorscale": {
           "diverging": [
            [
             0,
             "#8e0152"
            ],
            [
             0.1,
             "#c51b7d"
            ],
            [
             0.2,
             "#de77ae"
            ],
            [
             0.3,
             "#f1b6da"
            ],
            [
             0.4,
             "#fde0ef"
            ],
            [
             0.5,
             "#f7f7f7"
            ],
            [
             0.6,
             "#e6f5d0"
            ],
            [
             0.7,
             "#b8e186"
            ],
            [
             0.8,
             "#7fbc41"
            ],
            [
             0.9,
             "#4d9221"
            ],
            [
             1,
             "#276419"
            ]
           ],
           "sequential": [
            [
             0,
             "#0d0887"
            ],
            [
             0.1111111111111111,
             "#46039f"
            ],
            [
             0.2222222222222222,
             "#7201a8"
            ],
            [
             0.3333333333333333,
             "#9c179e"
            ],
            [
             0.4444444444444444,
             "#bd3786"
            ],
            [
             0.5555555555555556,
             "#d8576b"
            ],
            [
             0.6666666666666666,
             "#ed7953"
            ],
            [
             0.7777777777777778,
             "#fb9f3a"
            ],
            [
             0.8888888888888888,
             "#fdca26"
            ],
            [
             1,
             "#f0f921"
            ]
           ],
           "sequentialminus": [
            [
             0,
             "#0d0887"
            ],
            [
             0.1111111111111111,
             "#46039f"
            ],
            [
             0.2222222222222222,
             "#7201a8"
            ],
            [
             0.3333333333333333,
             "#9c179e"
            ],
            [
             0.4444444444444444,
             "#bd3786"
            ],
            [
             0.5555555555555556,
             "#d8576b"
            ],
            [
             0.6666666666666666,
             "#ed7953"
            ],
            [
             0.7777777777777778,
             "#fb9f3a"
            ],
            [
             0.8888888888888888,
             "#fdca26"
            ],
            [
             1,
             "#f0f921"
            ]
           ]
          },
          "colorway": [
           "#636efa",
           "#EF553B",
           "#00cc96",
           "#ab63fa",
           "#FFA15A",
           "#19d3f3",
           "#FF6692",
           "#B6E880",
           "#FF97FF",
           "#FECB52"
          ],
          "font": {
           "color": "#2a3f5f"
          },
          "geo": {
           "bgcolor": "white",
           "lakecolor": "white",
           "landcolor": "#E5ECF6",
           "showlakes": true,
           "showland": true,
           "subunitcolor": "white"
          },
          "hoverlabel": {
           "align": "left"
          },
          "hovermode": "closest",
          "mapbox": {
           "style": "light"
          },
          "paper_bgcolor": "white",
          "plot_bgcolor": "#E5ECF6",
          "polar": {
           "angularaxis": {
            "gridcolor": "white",
            "linecolor": "white",
            "ticks": ""
           },
           "bgcolor": "#E5ECF6",
           "radialaxis": {
            "gridcolor": "white",
            "linecolor": "white",
            "ticks": ""
           }
          },
          "scene": {
           "xaxis": {
            "backgroundcolor": "#E5ECF6",
            "gridcolor": "white",
            "gridwidth": 2,
            "linecolor": "white",
            "showbackground": true,
            "ticks": "",
            "zerolinecolor": "white"
           },
           "yaxis": {
            "backgroundcolor": "#E5ECF6",
            "gridcolor": "white",
            "gridwidth": 2,
            "linecolor": "white",
            "showbackground": true,
            "ticks": "",
            "zerolinecolor": "white"
           },
           "zaxis": {
            "backgroundcolor": "#E5ECF6",
            "gridcolor": "white",
            "gridwidth": 2,
            "linecolor": "white",
            "showbackground": true,
            "ticks": "",
            "zerolinecolor": "white"
           }
          },
          "shapedefaults": {
           "line": {
            "color": "#2a3f5f"
           }
          },
          "ternary": {
           "aaxis": {
            "gridcolor": "white",
            "linecolor": "white",
            "ticks": ""
           },
           "baxis": {
            "gridcolor": "white",
            "linecolor": "white",
            "ticks": ""
           },
           "bgcolor": "#E5ECF6",
           "caxis": {
            "gridcolor": "white",
            "linecolor": "white",
            "ticks": ""
           }
          },
          "title": {
           "x": 0.05
          },
          "xaxis": {
           "automargin": true,
           "gridcolor": "white",
           "linecolor": "white",
           "ticks": "",
           "title": {
            "standoff": 15
           },
           "zerolinecolor": "white",
           "zerolinewidth": 2
          },
          "yaxis": {
           "automargin": true,
           "gridcolor": "white",
           "linecolor": "white",
           "ticks": "",
           "title": {
            "standoff": 15
           },
           "zerolinecolor": "white",
           "zerolinewidth": 2
          }
         }
        },
        "title": {
         "text": "Domain Coverage"
        }
       }
      }
     },
     "metadata": {},
     "output_type": "display_data"
    }
   ],
   "source": [
    "def extract_domain(text):\n",
    "    text = text.lower()\n",
    "    if any(w in text for w in ['sports', 'team', 'game']): return 'sports'\n",
    "    if any(w in text for w in ['finance', 'stock', 'market', 'bank']): return 'finance'\n",
    "    if any(w in text for w in ['technology', 'software', 'ai', 'data']): return 'technology'\n",
    "    if any(w in text for w in ['politics', 'election', 'government']): return 'politics'\n",
    "    return 'other'\n",
    "\n",
    "df['domain'] = df['clean_text'].apply(extract_domain)\n",
    "domain_counts = df['domain'].value_counts(normalize=True)\n",
    "print(domain_counts)\n",
    "\n",
    "px.pie(values=domain_counts.values,\n",
    "       names=domain_counts.index,\n",
    "       title='Domain Coverage')"
   ]
  },
  {
   "cell_type": "code",
   "execution_count": 41,
   "id": "cb9b722a-113c-4dcc-a1b9-e4280d223b11",
   "metadata": {},
   "outputs": [
    {
     "name": "stdout",
     "output_type": "stream",
     "text": [
      "\n",
      "--- Foundation Data Quality Report (Extended) ---\n",
      "total_samples: 5000\n",
      "after_cleaning: 4141\n",
      "reduction_%: 17.18\n",
      "avg_length: 1824.59\n",
      "avg_toxicity_score: 0.0020000000949949026\n",
      "high_toxicity_%: 0.0\n",
      "factual_marker_%: 34.82\n",
      "top_domains: {'technology': 0.5433470176285922, 'sports': 0.2835063994204298, 'finance': 0.1009418014972229}\n"
     ]
    }
   ],
   "source": [
    "summary = {\n",
    "    'total_samples': 5000,\n",
    "    'after_cleaning': len(df),\n",
    "    'reduction_%': round(100 * (1 - len(df)/5000), 2),\n",
    "    'avg_length': round(df['text_length'].mean(), 2),\n",
    "    'avg_toxicity_score': round(df['toxicity_score'].mean(), 3),\n",
    "    'high_toxicity_%': round(100 * (df['toxicity_score'] > 0.7).mean(), 2),\n",
    "    'factual_marker_%': round(100 * factual_coverage, 2),\n",
    "    'top_domains': domain_counts.head(3).to_dict()\n",
    "}\n",
    "\n",
    "print(\"\\n--- Foundation Data Quality Report (Extended) ---\")\n",
    "for k, v in summary.items():\n",
    "    print(f\"{k}: {v}\")"
   ]
  }
 ],
 "metadata": {
  "kernelspec": {
   "display_name": "Python 3 (ipykernel)",
   "language": "python",
   "name": "python3"
  },
  "language_info": {
   "codemirror_mode": {
    "name": "ipython",
    "version": 3
   },
   "file_extension": ".py",
   "mimetype": "text/x-python",
   "name": "python",
   "nbconvert_exporter": "python",
   "pygments_lexer": "ipython3",
   "version": "3.12.9"
  }
 },
 "nbformat": 4,
 "nbformat_minor": 5
}
